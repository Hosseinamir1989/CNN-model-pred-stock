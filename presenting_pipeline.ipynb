{
 "cells": [
  {
   "cell_type": "markdown",
   "id": "07e1fdd0",
   "metadata": {},
   "source": []
  },
  {
   "cell_type": "code",
   "execution_count": 1,
   "id": "6e94eab6",
   "metadata": {},
   "outputs": [],
   "source": [
    "# 📦 Imports\n",
    "import os, random, yaml, logging\n",
    "import numpy as np\n",
    "import pandas as pd\n",
    "import matplotlib.pyplot as plt\n",
    "import tensorflow as tf\n",
    "\n",
    "from data_loader import load_stock_data\n",
    "from indicators import add_indicators\n",
    "from preprocessing import normalize_features, df_to_windowed_df, windowed_df_to_date_X_y\n",
    "from model import build_cnn_model\n",
    "from evaluation import (\n",
    "    plot_predictions, compute_metrics, compute_directional_accuracy,\n",
    "    evaluate_multi_horizon_accuracy, evaluate_directional_accuracy_by_horizon,\n",
    "    simulate_pnl\n",
    ")\n",
    "from feature_analysis import feature_drop_analysis\n",
    "from evaluation_tables import create_evaluation_tables\n"
   ]
  },
  {
   "cell_type": "code",
   "execution_count": 2,
   "id": "4c80e5bb",
   "metadata": {},
   "outputs": [],
   "source": [
    "# ⚙️ Load config\n",
    "with open(\"config/config.yaml\", \"r\") as f:\n",
    "    config = yaml.safe_load(f)\n"
   ]
  },
  {
   "cell_type": "code",
   "execution_count": 3,
   "id": "90014fe4",
   "metadata": {},
   "outputs": [],
   "source": [
    "# 🔧 Set seeds for reproducibility\n",
    "def set_seed(seed=42):\n",
    "    os.environ['PYTHONHASHSEED'] = str(seed)\n",
    "    random.seed(seed)\n",
    "    np.random.seed(seed)\n",
    "    tf.random.set_seed(seed)\n",
    "\n",
    "set_seed(42)\n"
   ]
  },
  {
   "cell_type": "code",
   "execution_count": 4,
   "id": "a09c37fe",
   "metadata": {},
   "outputs": [
    {
     "data": {
      "text/html": [
       "<div>\n",
       "<style scoped>\n",
       "    .dataframe tbody tr th:only-of-type {\n",
       "        vertical-align: middle;\n",
       "    }\n",
       "\n",
       "    .dataframe tbody tr th {\n",
       "        vertical-align: top;\n",
       "    }\n",
       "\n",
       "    .dataframe thead th {\n",
       "        text-align: right;\n",
       "    }\n",
       "</style>\n",
       "<table border=\"1\" class=\"dataframe\">\n",
       "  <thead>\n",
       "    <tr style=\"text-align: right;\">\n",
       "      <th></th>\n",
       "      <th>Close</th>\n",
       "      <th>Open</th>\n",
       "      <th>MACD</th>\n",
       "      <th>MACD_signal</th>\n",
       "      <th>MACD_hist</th>\n",
       "      <th>RSI</th>\n",
       "      <th>BB_upper</th>\n",
       "      <th>BB_lower</th>\n",
       "    </tr>\n",
       "    <tr>\n",
       "      <th>Date</th>\n",
       "      <th></th>\n",
       "      <th></th>\n",
       "      <th></th>\n",
       "      <th></th>\n",
       "      <th></th>\n",
       "      <th></th>\n",
       "      <th></th>\n",
       "      <th></th>\n",
       "    </tr>\n",
       "  </thead>\n",
       "  <tbody>\n",
       "    <tr>\n",
       "      <th>2020-01-30 05:00:00</th>\n",
       "      <td>227.880005</td>\n",
       "      <td>223.110001</td>\n",
       "      <td>-0.584199</td>\n",
       "      <td>-0.317360</td>\n",
       "      <td>-0.266839</td>\n",
       "      <td>48.338391</td>\n",
       "      <td>231.371067</td>\n",
       "      <td>223.219932</td>\n",
       "    </tr>\n",
       "    <tr>\n",
       "      <th>2020-01-31 05:00:00</th>\n",
       "      <td>224.429993</td>\n",
       "      <td>226.490005</td>\n",
       "      <td>-0.727539</td>\n",
       "      <td>-0.399396</td>\n",
       "      <td>-0.328143</td>\n",
       "      <td>45.546965</td>\n",
       "      <td>231.330896</td>\n",
       "      <td>222.864103</td>\n",
       "    </tr>\n",
       "    <tr>\n",
       "      <th>2020-02-03 05:00:00</th>\n",
       "      <td>223.470001</td>\n",
       "      <td>225.479996</td>\n",
       "      <td>-0.908132</td>\n",
       "      <td>-0.501143</td>\n",
       "      <td>-0.406989</td>\n",
       "      <td>39.502532</td>\n",
       "      <td>231.482771</td>\n",
       "      <td>222.441228</td>\n",
       "    </tr>\n",
       "    <tr>\n",
       "      <th>2020-02-04 05:00:00</th>\n",
       "      <td>225.080002</td>\n",
       "      <td>226.149994</td>\n",
       "      <td>-0.910840</td>\n",
       "      <td>-0.583082</td>\n",
       "      <td>-0.327758</td>\n",
       "      <td>45.654891</td>\n",
       "      <td>231.464812</td>\n",
       "      <td>222.268187</td>\n",
       "    </tr>\n",
       "    <tr>\n",
       "      <th>2020-02-05 05:00:00</th>\n",
       "      <td>228.649994</td>\n",
       "      <td>226.910004</td>\n",
       "      <td>-0.617796</td>\n",
       "      <td>-0.590025</td>\n",
       "      <td>-0.027771</td>\n",
       "      <td>50.567300</td>\n",
       "      <td>231.644882</td>\n",
       "      <td>222.361116</td>\n",
       "    </tr>\n",
       "  </tbody>\n",
       "</table>\n",
       "</div>"
      ],
      "text/plain": [
       "                          Close        Open      MACD  MACD_signal  MACD_hist  \\\n",
       "Date                                                                            \n",
       "2020-01-30 05:00:00  227.880005  223.110001 -0.584199    -0.317360  -0.266839   \n",
       "2020-01-31 05:00:00  224.429993  226.490005 -0.727539    -0.399396  -0.328143   \n",
       "2020-02-03 05:00:00  223.470001  225.479996 -0.908132    -0.501143  -0.406989   \n",
       "2020-02-04 05:00:00  225.080002  226.149994 -0.910840    -0.583082  -0.327758   \n",
       "2020-02-05 05:00:00  228.649994  226.910004 -0.617796    -0.590025  -0.027771   \n",
       "\n",
       "                           RSI    BB_upper    BB_lower  \n",
       "Date                                                    \n",
       "2020-01-30 05:00:00  48.338391  231.371067  223.219932  \n",
       "2020-01-31 05:00:00  45.546965  231.330896  222.864103  \n",
       "2020-02-03 05:00:00  39.502532  231.482771  222.441228  \n",
       "2020-02-04 05:00:00  45.654891  231.464812  222.268187  \n",
       "2020-02-05 05:00:00  50.567300  231.644882  222.361116  "
      ]
     },
     "execution_count": 4,
     "metadata": {},
     "output_type": "execute_result"
    }
   ],
   "source": [
    "# 📂 Load stock data\n",
    "tickers = config[\"tickers\"]\n",
    "dfs = load_stock_data(config[\"paths\"][\"csv_folder\"], tickers)\n",
    "df = dfs[0]  # Use the first ticker\n",
    "df = add_indicators(df)\n",
    "df.head()\n"
   ]
  },
  {
   "cell_type": "code",
   "execution_count": 5,
   "id": "38b04fe7",
   "metadata": {},
   "outputs": [
    {
     "data": {
      "text/html": [
       "<div>\n",
       "<style scoped>\n",
       "    .dataframe tbody tr th:only-of-type {\n",
       "        vertical-align: middle;\n",
       "    }\n",
       "\n",
       "    .dataframe tbody tr th {\n",
       "        vertical-align: top;\n",
       "    }\n",
       "\n",
       "    .dataframe thead th {\n",
       "        text-align: right;\n",
       "    }\n",
       "</style>\n",
       "<table border=\"1\" class=\"dataframe\">\n",
       "  <thead>\n",
       "    <tr style=\"text-align: right;\">\n",
       "      <th></th>\n",
       "      <th>Open</th>\n",
       "      <th>MACD</th>\n",
       "      <th>MACD_signal</th>\n",
       "      <th>MACD_hist</th>\n",
       "      <th>RSI</th>\n",
       "      <th>BB_upper</th>\n",
       "      <th>BB_lower</th>\n",
       "      <th>Close</th>\n",
       "    </tr>\n",
       "    <tr>\n",
       "      <th>Date</th>\n",
       "      <th></th>\n",
       "      <th></th>\n",
       "      <th></th>\n",
       "      <th></th>\n",
       "      <th></th>\n",
       "      <th></th>\n",
       "      <th></th>\n",
       "      <th></th>\n",
       "    </tr>\n",
       "  </thead>\n",
       "  <tbody>\n",
       "    <tr>\n",
       "      <th>2020-01-30 05:00:00</th>\n",
       "      <td>0.180617</td>\n",
       "      <td>0.511322</td>\n",
       "      <td>0.525795</td>\n",
       "      <td>0.460487</td>\n",
       "      <td>0.469511</td>\n",
       "      <td>0.156174</td>\n",
       "      <td>0.219185</td>\n",
       "      <td>0.204861</td>\n",
       "    </tr>\n",
       "    <tr>\n",
       "      <th>2020-01-31 05:00:00</th>\n",
       "      <td>0.191177</td>\n",
       "      <td>0.505744</td>\n",
       "      <td>0.521890</td>\n",
       "      <td>0.452524</td>\n",
       "      <td>0.438211</td>\n",
       "      <td>0.156043</td>\n",
       "      <td>0.218018</td>\n",
       "      <td>0.194111</td>\n",
       "    </tr>\n",
       "    <tr>\n",
       "      <th>2020-02-03 05:00:00</th>\n",
       "      <td>0.188021</td>\n",
       "      <td>0.498717</td>\n",
       "      <td>0.517047</td>\n",
       "      <td>0.442283</td>\n",
       "      <td>0.370435</td>\n",
       "      <td>0.156538</td>\n",
       "      <td>0.216630</td>\n",
       "      <td>0.191120</td>\n",
       "    </tr>\n",
       "    <tr>\n",
       "      <th>2020-02-04 05:00:00</th>\n",
       "      <td>0.190115</td>\n",
       "      <td>0.498611</td>\n",
       "      <td>0.513147</td>\n",
       "      <td>0.452574</td>\n",
       "      <td>0.439421</td>\n",
       "      <td>0.156480</td>\n",
       "      <td>0.216062</td>\n",
       "      <td>0.196136</td>\n",
       "    </tr>\n",
       "    <tr>\n",
       "      <th>2020-02-05 05:00:00</th>\n",
       "      <td>0.192489</td>\n",
       "      <td>0.510015</td>\n",
       "      <td>0.512817</td>\n",
       "      <td>0.491540</td>\n",
       "      <td>0.494504</td>\n",
       "      <td>0.157067</td>\n",
       "      <td>0.216367</td>\n",
       "      <td>0.207260</td>\n",
       "    </tr>\n",
       "  </tbody>\n",
       "</table>\n",
       "</div>"
      ],
      "text/plain": [
       "                         Open      MACD  MACD_signal  MACD_hist       RSI  \\\n",
       "Date                                                                        \n",
       "2020-01-30 05:00:00  0.180617  0.511322     0.525795   0.460487  0.469511   \n",
       "2020-01-31 05:00:00  0.191177  0.505744     0.521890   0.452524  0.438211   \n",
       "2020-02-03 05:00:00  0.188021  0.498717     0.517047   0.442283  0.370435   \n",
       "2020-02-04 05:00:00  0.190115  0.498611     0.513147   0.452574  0.439421   \n",
       "2020-02-05 05:00:00  0.192489  0.510015     0.512817   0.491540  0.494504   \n",
       "\n",
       "                     BB_upper  BB_lower     Close  \n",
       "Date                                               \n",
       "2020-01-30 05:00:00  0.156174  0.219185  0.204861  \n",
       "2020-01-31 05:00:00  0.156043  0.218018  0.194111  \n",
       "2020-02-03 05:00:00  0.156538  0.216630  0.191120  \n",
       "2020-02-04 05:00:00  0.156480  0.216062  0.196136  \n",
       "2020-02-05 05:00:00  0.157067  0.216367  0.207260  "
      ]
     },
     "execution_count": 5,
     "metadata": {},
     "output_type": "execute_result"
    }
   ],
   "source": [
    "# 🔄 Normalize features\n",
    "df_scaled, scaler_X, scaler_y = normalize_features(df)\n",
    "feature_cols = [c for c in df_scaled.columns if c != \"Close\"]\n",
    "df_scaled.head()\n"
   ]
  },
  {
   "cell_type": "code",
   "execution_count": 6,
   "id": "4d1de409",
   "metadata": {},
   "outputs": [],
   "source": [
    "# 📈 Convert to windowed format\n",
    "window_size = config[\"cnn\"][\"window_size\"]\n",
    "windowed_df = df_to_windowed_df(df_scaled, window_size)\n",
    "dates, X, y = windowed_df_to_date_X_y(windowed_df, window_size)\n"
   ]
  },
  {
   "cell_type": "code",
   "execution_count": 7,
   "id": "66ffbd59",
   "metadata": {},
   "outputs": [],
   "source": [
    "# 🧪 Split data\n",
    "q_90 = int(len(dates) * 0.90)\n",
    "q_96 = int(len(dates) * 0.96)\n",
    "\n",
    "X_train, X_val, X_test = X[:q_90], X[q_90:q_96], X[q_96:]\n",
    "y_train, y_val, y_test = y[:q_90], y[q_90:q_96], y[q_96:]\n",
    "dates_train, dates_val, dates_test = dates[:q_90], dates[q_90:q_96], dates[q_96:]\n"
   ]
  },
  {
   "cell_type": "code",
   "execution_count": 8,
   "id": "2e7afbf4",
   "metadata": {},
   "outputs": [
    {
     "name": "stdout",
     "output_type": "stream",
     "text": [
      "Epoch 1/60\n"
     ]
    },
    {
     "name": "stderr",
     "output_type": "stream",
     "text": [
      "C:\\Users\\Hossein\\AppData\\Local\\Packages\\PythonSoftwareFoundation.Python.3.11_qbz5n2kfra8p0\\LocalCache\\local-packages\\Python311\\site-packages\\keras\\src\\layers\\convolutional\\base_conv.py:107: UserWarning: Do not pass an `input_shape`/`input_dim` argument to a layer. When using Sequential models, prefer using an `Input(shape)` object as the first layer in the model instead.\n",
      "  super().__init__(activity_regularizer=activity_regularizer, **kwargs)\n"
     ]
    },
    {
     "name": "stdout",
     "output_type": "stream",
     "text": [
      "\u001b[1m70/70\u001b[0m \u001b[32m━━━━━━━━━━━━━━━━━━━━\u001b[0m\u001b[37m\u001b[0m \u001b[1m1s\u001b[0m 3ms/step - loss: 0.0608 - val_loss: 0.0010\n",
      "Epoch 2/60\n",
      "\u001b[1m70/70\u001b[0m \u001b[32m━━━━━━━━━━━━━━━━━━━━\u001b[0m\u001b[37m\u001b[0m \u001b[1m0s\u001b[0m 2ms/step - loss: 5.8902e-04 - val_loss: 7.2469e-04\n",
      "Epoch 3/60\n",
      "\u001b[1m70/70\u001b[0m \u001b[32m━━━━━━━━━━━━━━━━━━━━\u001b[0m\u001b[37m\u001b[0m \u001b[1m0s\u001b[0m 2ms/step - loss: 4.3515e-04 - val_loss: 6.7880e-04\n",
      "Epoch 4/60\n",
      "\u001b[1m70/70\u001b[0m \u001b[32m━━━━━━━━━━━━━━━━━━━━\u001b[0m\u001b[37m\u001b[0m \u001b[1m0s\u001b[0m 2ms/step - loss: 3.6496e-04 - val_loss: 6.9382e-04\n",
      "Epoch 5/60\n",
      "\u001b[1m70/70\u001b[0m \u001b[32m━━━━━━━━━━━━━━━━━━━━\u001b[0m\u001b[37m\u001b[0m \u001b[1m0s\u001b[0m 2ms/step - loss: 3.2849e-04 - val_loss: 5.9913e-04\n",
      "Epoch 6/60\n",
      "\u001b[1m70/70\u001b[0m \u001b[32m━━━━━━━━━━━━━━━━━━━━\u001b[0m\u001b[37m\u001b[0m \u001b[1m0s\u001b[0m 2ms/step - loss: 3.0041e-04 - val_loss: 5.1879e-04\n",
      "Epoch 7/60\n",
      "\u001b[1m70/70\u001b[0m \u001b[32m━━━━━━━━━━━━━━━━━━━━\u001b[0m\u001b[37m\u001b[0m \u001b[1m0s\u001b[0m 2ms/step - loss: 2.8032e-04 - val_loss: 4.6821e-04\n",
      "Epoch 8/60\n",
      "\u001b[1m70/70\u001b[0m \u001b[32m━━━━━━━━━━━━━━━━━━━━\u001b[0m\u001b[37m\u001b[0m \u001b[1m0s\u001b[0m 2ms/step - loss: 2.7282e-04 - val_loss: 4.5927e-04\n",
      "Epoch 9/60\n",
      "\u001b[1m70/70\u001b[0m \u001b[32m━━━━━━━━━━━━━━━━━━━━\u001b[0m\u001b[37m\u001b[0m \u001b[1m0s\u001b[0m 2ms/step - loss: 2.7203e-04 - val_loss: 4.3715e-04\n",
      "Epoch 10/60\n",
      "\u001b[1m70/70\u001b[0m \u001b[32m━━━━━━━━━━━━━━━━━━━━\u001b[0m\u001b[37m\u001b[0m \u001b[1m0s\u001b[0m 2ms/step - loss: 2.7408e-04 - val_loss: 4.3360e-04\n",
      "Epoch 11/60\n",
      "\u001b[1m70/70\u001b[0m \u001b[32m━━━━━━━━━━━━━━━━━━━━\u001b[0m\u001b[37m\u001b[0m \u001b[1m0s\u001b[0m 2ms/step - loss: 2.6800e-04 - val_loss: 4.2914e-04\n",
      "Epoch 12/60\n",
      "\u001b[1m70/70\u001b[0m \u001b[32m━━━━━━━━━━━━━━━━━━━━\u001b[0m\u001b[37m\u001b[0m \u001b[1m0s\u001b[0m 2ms/step - loss: 2.6462e-04 - val_loss: 4.2558e-04\n",
      "Epoch 13/60\n",
      "\u001b[1m70/70\u001b[0m \u001b[32m━━━━━━━━━━━━━━━━━━━━\u001b[0m\u001b[37m\u001b[0m \u001b[1m0s\u001b[0m 2ms/step - loss: 2.5517e-04 - val_loss: 4.1527e-04\n",
      "Epoch 14/60\n",
      "\u001b[1m70/70\u001b[0m \u001b[32m━━━━━━━━━━━━━━━━━━━━\u001b[0m\u001b[37m\u001b[0m \u001b[1m0s\u001b[0m 2ms/step - loss: 2.4554e-04 - val_loss: 4.1660e-04\n",
      "Epoch 15/60\n",
      "\u001b[1m70/70\u001b[0m \u001b[32m━━━━━━━━━━━━━━━━━━━━\u001b[0m\u001b[37m\u001b[0m \u001b[1m0s\u001b[0m 2ms/step - loss: 2.5098e-04 - val_loss: 3.9601e-04\n",
      "Epoch 16/60\n",
      "\u001b[1m70/70\u001b[0m \u001b[32m━━━━━━━━━━━━━━━━━━━━\u001b[0m\u001b[37m\u001b[0m \u001b[1m0s\u001b[0m 2ms/step - loss: 2.3090e-04 - val_loss: 3.9306e-04\n",
      "Epoch 17/60\n",
      "\u001b[1m70/70\u001b[0m \u001b[32m━━━━━━━━━━━━━━━━━━━━\u001b[0m\u001b[37m\u001b[0m \u001b[1m0s\u001b[0m 2ms/step - loss: 2.2210e-04 - val_loss: 3.8267e-04\n",
      "Epoch 18/60\n",
      "\u001b[1m70/70\u001b[0m \u001b[32m━━━━━━━━━━━━━━━━━━━━\u001b[0m\u001b[37m\u001b[0m \u001b[1m0s\u001b[0m 2ms/step - loss: 2.1823e-04 - val_loss: 3.7693e-04\n",
      "Epoch 19/60\n",
      "\u001b[1m70/70\u001b[0m \u001b[32m━━━━━━━━━━━━━━━━━━━━\u001b[0m\u001b[37m\u001b[0m \u001b[1m0s\u001b[0m 2ms/step - loss: 2.0434e-04 - val_loss: 3.8032e-04\n",
      "Epoch 20/60\n",
      "\u001b[1m70/70\u001b[0m \u001b[32m━━━━━━━━━━━━━━━━━━━━\u001b[0m\u001b[37m\u001b[0m \u001b[1m0s\u001b[0m 2ms/step - loss: 2.0648e-04 - val_loss: 3.7924e-04\n",
      "Epoch 21/60\n",
      "\u001b[1m70/70\u001b[0m \u001b[32m━━━━━━━━━━━━━━━━━━━━\u001b[0m\u001b[37m\u001b[0m \u001b[1m0s\u001b[0m 2ms/step - loss: 2.1028e-04 - val_loss: 3.7150e-04\n",
      "Epoch 22/60\n",
      "\u001b[1m70/70\u001b[0m \u001b[32m━━━━━━━━━━━━━━━━━━━━\u001b[0m\u001b[37m\u001b[0m \u001b[1m0s\u001b[0m 2ms/step - loss: 1.9601e-04 - val_loss: 3.6715e-04\n",
      "Epoch 23/60\n",
      "\u001b[1m70/70\u001b[0m \u001b[32m━━━━━━━━━━━━━━━━━━━━\u001b[0m\u001b[37m\u001b[0m \u001b[1m0s\u001b[0m 2ms/step - loss: 1.9189e-04 - val_loss: 3.7511e-04\n",
      "Epoch 24/60\n",
      "\u001b[1m70/70\u001b[0m \u001b[32m━━━━━━━━━━━━━━━━━━━━\u001b[0m\u001b[37m\u001b[0m \u001b[1m0s\u001b[0m 2ms/step - loss: 1.8692e-04 - val_loss: 3.7835e-04\n",
      "Epoch 25/60\n",
      "\u001b[1m70/70\u001b[0m \u001b[32m━━━━━━━━━━━━━━━━━━━━\u001b[0m\u001b[37m\u001b[0m \u001b[1m0s\u001b[0m 2ms/step - loss: 1.7336e-04 - val_loss: 3.8117e-04\n",
      "Epoch 26/60\n",
      "\u001b[1m70/70\u001b[0m \u001b[32m━━━━━━━━━━━━━━━━━━━━\u001b[0m\u001b[37m\u001b[0m \u001b[1m0s\u001b[0m 2ms/step - loss: 1.6907e-04 - val_loss: 4.1368e-04\n",
      "Epoch 27/60\n",
      "\u001b[1m70/70\u001b[0m \u001b[32m━━━━━━━━━━━━━━━━━━━━\u001b[0m\u001b[37m\u001b[0m \u001b[1m0s\u001b[0m 2ms/step - loss: 1.6448e-04 - val_loss: 4.3297e-04\n",
      "Epoch 28/60\n",
      "\u001b[1m70/70\u001b[0m \u001b[32m━━━━━━━━━━━━━━━━━━━━\u001b[0m\u001b[37m\u001b[0m \u001b[1m0s\u001b[0m 2ms/step - loss: 1.5640e-04 - val_loss: 4.7430e-04\n",
      "Epoch 29/60\n",
      "\u001b[1m70/70\u001b[0m \u001b[32m━━━━━━━━━━━━━━━━━━━━\u001b[0m\u001b[37m\u001b[0m \u001b[1m0s\u001b[0m 2ms/step - loss: 1.5622e-04 - val_loss: 4.6474e-04\n",
      "Epoch 30/60\n",
      "\u001b[1m70/70\u001b[0m \u001b[32m━━━━━━━━━━━━━━━━━━━━\u001b[0m\u001b[37m\u001b[0m \u001b[1m0s\u001b[0m 2ms/step - loss: 1.5011e-04 - val_loss: 4.9348e-04\n",
      "Epoch 31/60\n",
      "\u001b[1m70/70\u001b[0m \u001b[32m━━━━━━━━━━━━━━━━━━━━\u001b[0m\u001b[37m\u001b[0m \u001b[1m0s\u001b[0m 2ms/step - loss: 1.5018e-04 - val_loss: 4.8211e-04\n",
      "Epoch 32/60\n",
      "\u001b[1m70/70\u001b[0m \u001b[32m━━━━━━━━━━━━━━━━━━━━\u001b[0m\u001b[37m\u001b[0m \u001b[1m0s\u001b[0m 2ms/step - loss: 1.5192e-04 - val_loss: 5.0227e-04\n",
      "Epoch 33/60\n",
      "\u001b[1m70/70\u001b[0m \u001b[32m━━━━━━━━━━━━━━━━━━━━\u001b[0m\u001b[37m\u001b[0m \u001b[1m0s\u001b[0m 2ms/step - loss: 1.5034e-04 - val_loss: 6.0311e-04\n",
      "Epoch 34/60\n",
      "\u001b[1m70/70\u001b[0m \u001b[32m━━━━━━━━━━━━━━━━━━━━\u001b[0m\u001b[37m\u001b[0m \u001b[1m0s\u001b[0m 2ms/step - loss: 1.4810e-04 - val_loss: 5.3103e-04\n",
      "Epoch 35/60\n",
      "\u001b[1m70/70\u001b[0m \u001b[32m━━━━━━━━━━━━━━━━━━━━\u001b[0m\u001b[37m\u001b[0m \u001b[1m0s\u001b[0m 2ms/step - loss: 1.4732e-04 - val_loss: 5.0191e-04\n",
      "Epoch 36/60\n",
      "\u001b[1m70/70\u001b[0m \u001b[32m━━━━━━━━━━━━━━━━━━━━\u001b[0m\u001b[37m\u001b[0m \u001b[1m0s\u001b[0m 2ms/step - loss: 1.4310e-04 - val_loss: 5.6742e-04\n",
      "Epoch 37/60\n",
      "\u001b[1m70/70\u001b[0m \u001b[32m━━━━━━━━━━━━━━━━━━━━\u001b[0m\u001b[37m\u001b[0m \u001b[1m0s\u001b[0m 2ms/step - loss: 1.3925e-04 - val_loss: 5.4250e-04\n",
      "Epoch 38/60\n",
      "\u001b[1m70/70\u001b[0m \u001b[32m━━━━━━━━━━━━━━━━━━━━\u001b[0m\u001b[37m\u001b[0m \u001b[1m0s\u001b[0m 2ms/step - loss: 1.4014e-04 - val_loss: 5.1031e-04\n",
      "Epoch 39/60\n",
      "\u001b[1m70/70\u001b[0m \u001b[32m━━━━━━━━━━━━━━━━━━━━\u001b[0m\u001b[37m\u001b[0m \u001b[1m0s\u001b[0m 2ms/step - loss: 1.3677e-04 - val_loss: 4.7462e-04\n",
      "Epoch 40/60\n",
      "\u001b[1m70/70\u001b[0m \u001b[32m━━━━━━━━━━━━━━━━━━━━\u001b[0m\u001b[37m\u001b[0m \u001b[1m0s\u001b[0m 2ms/step - loss: 1.3608e-04 - val_loss: 4.4903e-04\n",
      "Epoch 41/60\n",
      "\u001b[1m70/70\u001b[0m \u001b[32m━━━━━━━━━━━━━━━━━━━━\u001b[0m\u001b[37m\u001b[0m \u001b[1m0s\u001b[0m 2ms/step - loss: 1.3493e-04 - val_loss: 4.7180e-04\n",
      "Epoch 42/60\n",
      "\u001b[1m70/70\u001b[0m \u001b[32m━━━━━━━━━━━━━━━━━━━━\u001b[0m\u001b[37m\u001b[0m \u001b[1m0s\u001b[0m 2ms/step - loss: 1.3675e-04 - val_loss: 4.6452e-04\n",
      "Epoch 43/60\n",
      "\u001b[1m70/70\u001b[0m \u001b[32m━━━━━━━━━━━━━━━━━━━━\u001b[0m\u001b[37m\u001b[0m \u001b[1m0s\u001b[0m 2ms/step - loss: 1.3999e-04 - val_loss: 5.2553e-04\n",
      "Epoch 44/60\n",
      "\u001b[1m70/70\u001b[0m \u001b[32m━━━━━━━━━━━━━━━━━━━━\u001b[0m\u001b[37m\u001b[0m \u001b[1m0s\u001b[0m 2ms/step - loss: 1.3996e-04 - val_loss: 4.2517e-04\n",
      "Epoch 45/60\n",
      "\u001b[1m70/70\u001b[0m \u001b[32m━━━━━━━━━━━━━━━━━━━━\u001b[0m\u001b[37m\u001b[0m \u001b[1m0s\u001b[0m 2ms/step - loss: 1.3633e-04 - val_loss: 4.4199e-04\n",
      "Epoch 46/60\n",
      "\u001b[1m70/70\u001b[0m \u001b[32m━━━━━━━━━━━━━━━━━━━━\u001b[0m\u001b[37m\u001b[0m \u001b[1m0s\u001b[0m 2ms/step - loss: 1.3415e-04 - val_loss: 4.8103e-04\n",
      "Epoch 47/60\n",
      "\u001b[1m70/70\u001b[0m \u001b[32m━━━━━━━━━━━━━━━━━━━━\u001b[0m\u001b[37m\u001b[0m \u001b[1m0s\u001b[0m 2ms/step - loss: 1.3003e-04 - val_loss: 4.9344e-04\n",
      "Epoch 48/60\n",
      "\u001b[1m70/70\u001b[0m \u001b[32m━━━━━━━━━━━━━━━━━━━━\u001b[0m\u001b[37m\u001b[0m \u001b[1m0s\u001b[0m 2ms/step - loss: 1.3181e-04 - val_loss: 5.7208e-04\n",
      "Epoch 49/60\n",
      "\u001b[1m70/70\u001b[0m \u001b[32m━━━━━━━━━━━━━━━━━━━━\u001b[0m\u001b[37m\u001b[0m \u001b[1m0s\u001b[0m 2ms/step - loss: 1.3459e-04 - val_loss: 5.8185e-04\n",
      "Epoch 50/60\n",
      "\u001b[1m70/70\u001b[0m \u001b[32m━━━━━━━━━━━━━━━━━━━━\u001b[0m\u001b[37m\u001b[0m \u001b[1m0s\u001b[0m 2ms/step - loss: 1.3565e-04 - val_loss: 6.3360e-04\n",
      "Epoch 51/60\n",
      "\u001b[1m70/70\u001b[0m \u001b[32m━━━━━━━━━━━━━━━━━━━━\u001b[0m\u001b[37m\u001b[0m \u001b[1m0s\u001b[0m 2ms/step - loss: 1.4478e-04 - val_loss: 4.6217e-04\n",
      "Epoch 52/60\n",
      "\u001b[1m70/70\u001b[0m \u001b[32m━━━━━━━━━━━━━━━━━━━━\u001b[0m\u001b[37m\u001b[0m \u001b[1m0s\u001b[0m 2ms/step - loss: 1.2821e-04 - val_loss: 8.9407e-04\n",
      "Epoch 53/60\n",
      "\u001b[1m70/70\u001b[0m \u001b[32m━━━━━━━━━━━━━━━━━━━━\u001b[0m\u001b[37m\u001b[0m \u001b[1m0s\u001b[0m 2ms/step - loss: 1.5531e-04 - val_loss: 3.8587e-04\n",
      "Epoch 54/60\n",
      "\u001b[1m70/70\u001b[0m \u001b[32m━━━━━━━━━━━━━━━━━━━━\u001b[0m\u001b[37m\u001b[0m \u001b[1m0s\u001b[0m 2ms/step - loss: 1.2991e-04 - val_loss: 5.7785e-04\n",
      "Epoch 55/60\n",
      "\u001b[1m70/70\u001b[0m \u001b[32m━━━━━━━━━━━━━━━━━━━━\u001b[0m\u001b[37m\u001b[0m \u001b[1m0s\u001b[0m 2ms/step - loss: 1.2896e-04 - val_loss: 7.5630e-04\n",
      "Epoch 56/60\n",
      "\u001b[1m70/70\u001b[0m \u001b[32m━━━━━━━━━━━━━━━━━━━━\u001b[0m\u001b[37m\u001b[0m \u001b[1m0s\u001b[0m 2ms/step - loss: 1.4747e-04 - val_loss: 4.9327e-04\n",
      "Epoch 57/60\n",
      "\u001b[1m70/70\u001b[0m \u001b[32m━━━━━━━━━━━━━━━━━━━━\u001b[0m\u001b[37m\u001b[0m \u001b[1m0s\u001b[0m 2ms/step - loss: 1.2553e-04 - val_loss: 7.2934e-04\n",
      "Epoch 58/60\n",
      "\u001b[1m70/70\u001b[0m \u001b[32m━━━━━━━━━━━━━━━━━━━━\u001b[0m\u001b[37m\u001b[0m \u001b[1m0s\u001b[0m 2ms/step - loss: 1.5138e-04 - val_loss: 5.4273e-04\n",
      "Epoch 59/60\n",
      "\u001b[1m70/70\u001b[0m \u001b[32m━━━━━━━━━━━━━━━━━━━━\u001b[0m\u001b[37m\u001b[0m \u001b[1m0s\u001b[0m 2ms/step - loss: 1.2806e-04 - val_loss: 5.4135e-04\n",
      "Epoch 60/60\n",
      "\u001b[1m70/70\u001b[0m \u001b[32m━━━━━━━━━━━━━━━━━━━━\u001b[0m\u001b[37m\u001b[0m \u001b[1m0s\u001b[0m 2ms/step - loss: 1.3657e-04 - val_loss: 5.6006e-04\n"
     ]
    },
    {
     "data": {
      "text/plain": [
       "<keras.src.callbacks.history.History at 0x1ee051d31d0>"
      ]
     },
     "execution_count": 8,
     "metadata": {},
     "output_type": "execute_result"
    }
   ],
   "source": [
    "# 🧠 Build & train CNN model\n",
    "model = build_cnn_model(window_size, X.shape[2])\n",
    "model.compile(loss=\"mean_squared_error\", optimizer=\"adam\")\n",
    "model.fit(X_train, y_train, epochs=config[\"cnn\"][\"epochs\"], batch_size=config[\"cnn\"][\"batch_size\"], validation_data=(X_val, y_val))\n"
   ]
  },
  {
   "cell_type": "code",
   "execution_count": 9,
   "id": "f0610fa5",
   "metadata": {},
   "outputs": [
    {
     "name": "stderr",
     "output_type": "stream",
     "text": [
      "WARNING:absl:You are saving your model as an HDF5 file via `model.save()` or `keras.saving.save_model(model)`. This file format is considered legacy. We recommend using instead the native Keras format, e.g. `model.save('my_model.keras')` or `keras.saving.save_model(model, 'my_model.keras')`. \n"
     ]
    }
   ],
   "source": [
    "# 💾 Save model\n",
    "model_save_path = f\"cnn_model_{tickers[0]}.h5\"\n",
    "model.save(model_save_path)\n"
   ]
  },
  {
   "cell_type": "code",
   "execution_count": 10,
   "id": "b7ba3f9f",
   "metadata": {},
   "outputs": [
    {
     "name": "stdout",
     "output_type": "stream",
     "text": [
      "\u001b[1m35/35\u001b[0m \u001b[32m━━━━━━━━━━━━━━━━━━━━\u001b[0m\u001b[37m\u001b[0m \u001b[1m0s\u001b[0m 1ms/step \n",
      "\u001b[1m3/3\u001b[0m \u001b[32m━━━━━━━━━━━━━━━━━━━━\u001b[0m\u001b[37m\u001b[0m \u001b[1m0s\u001b[0m 5ms/step \n",
      "\u001b[1m2/2\u001b[0m \u001b[32m━━━━━━━━━━━━━━━━━━━━\u001b[0m\u001b[37m\u001b[0m \u001b[1m0s\u001b[0m 12ms/step\n"
     ]
    }
   ],
   "source": [
    "# 📊 Predictions (inverse transform)\n",
    "train_pred = scaler_y.inverse_transform(model.predict(X_train)).flatten()\n",
    "val_pred = scaler_y.inverse_transform(model.predict(X_val)).flatten()\n",
    "test_pred = scaler_y.inverse_transform(model.predict(X_test)).flatten()\n",
    "\n",
    "y_train_orig = scaler_y.inverse_transform(y_train.reshape(-1, 1)).flatten()\n",
    "y_val_orig = scaler_y.inverse_transform(y_val.reshape(-1, 1)).flatten()\n",
    "y_test_orig = scaler_y.inverse_transform(y_test.reshape(-1, 1)).flatten()\n"
   ]
  },
  {
   "cell_type": "code",
   "execution_count": 11,
   "id": "21593419",
   "metadata": {},
   "outputs": [
    {
     "data": {
      "image/png": "[encoded data removed]",
      "text/plain": [
       "<Figure size 1400x600 with 1 Axes>"
      ]
     },
     "metadata": {},
     "output_type": "display_data"
    }
   ],
   "source": [
    "# 📉 Plot predictions\n",
    "plot_predictions(\n",
    "    dates_train, y_train_orig, train_pred,\n",
    "    dates_val, y_val_orig, val_pred,\n",
    "    dates_test, y_test_orig, test_pred\n",
    ")\n"
   ]
  },
  {
   "cell_type": "code",
   "execution_count": 12,
   "id": "2b88554b",
   "metadata": {},
   "outputs": [
    {
     "name": "stdout",
     "output_type": "stream",
     "text": [
      "Test RMSE: 6.9205\n",
      "Test MAE: 4.9847\n",
      "Directional Accuracy: 0.4898\n"
     ]
    }
   ],
   "source": [
    "# 📐 Evaluate performance\n",
    "rmse_test, mae_test = compute_metrics(y_test_orig, test_pred)\n",
    "dir_acc_test = compute_directional_accuracy(y_test_orig, test_pred)\n",
    "\n",
    "print(f\"Test RMSE: {rmse_test:.4f}\")\n",
    "print(f\"Test MAE: {mae_test:.4f}\")\n",
    "print(f\"Directional Accuracy: {dir_acc_test:.4f}\")\n"
   ]
  },
  {
   "cell_type": "code",
   "execution_count": 13,
   "id": "1acd1d52",
   "metadata": {},
   "outputs": [
    {
     "data": {
      "text/html": [
       "<div>\n",
       "<style scoped>\n",
       "    .dataframe tbody tr th:only-of-type {\n",
       "        vertical-align: middle;\n",
       "    }\n",
       "\n",
       "    .dataframe tbody tr th {\n",
       "        vertical-align: top;\n",
       "    }\n",
       "\n",
       "    .dataframe thead th {\n",
       "        text-align: right;\n",
       "    }\n",
       "</style>\n",
       "<table border=\"1\" class=\"dataframe\">\n",
       "  <thead>\n",
       "    <tr style=\"text-align: right;\">\n",
       "      <th></th>\n",
       "      <th>Horizon</th>\n",
       "      <th>RMSE</th>\n",
       "      <th>MAE</th>\n",
       "    </tr>\n",
       "  </thead>\n",
       "  <tbody>\n",
       "    <tr>\n",
       "      <th>0</th>\n",
       "      <td>T+1</td>\n",
       "      <td>7.533686</td>\n",
       "      <td>5.644252</td>\n",
       "    </tr>\n",
       "    <tr>\n",
       "      <th>1</th>\n",
       "      <td>T+2</td>\n",
       "      <td>8.225451</td>\n",
       "      <td>6.435101</td>\n",
       "    </tr>\n",
       "    <tr>\n",
       "      <th>2</th>\n",
       "      <td>T+3</td>\n",
       "      <td>9.130621</td>\n",
       "      <td>7.187260</td>\n",
       "    </tr>\n",
       "  </tbody>\n",
       "</table>\n",
       "</div>"
      ],
      "text/plain": [
       "  Horizon      RMSE       MAE\n",
       "0     T+1  7.533686  5.644252\n",
       "1     T+2  8.225451  6.435101\n",
       "2     T+3  9.130621  7.187260"
      ]
     },
     "execution_count": 13,
     "metadata": {},
     "output_type": "execute_result"
    }
   ],
   "source": [
    "# 🔁 Multi-horizon evaluation\n",
    "pd.DataFrame(evaluate_multi_horizon_accuracy(y_test_orig, test_pred))\n"
   ]
  },
  {
   "cell_type": "code",
   "execution_count": 14,
   "id": "2b03c41a",
   "metadata": {},
   "outputs": [
    {
     "data": {
      "text/html": [
       "<div>\n",
       "<style scoped>\n",
       "    .dataframe tbody tr th:only-of-type {\n",
       "        vertical-align: middle;\n",
       "    }\n",
       "\n",
       "    .dataframe tbody tr th {\n",
       "        vertical-align: top;\n",
       "    }\n",
       "\n",
       "    .dataframe thead th {\n",
       "        text-align: right;\n",
       "    }\n",
       "</style>\n",
       "<table border=\"1\" class=\"dataframe\">\n",
       "  <thead>\n",
       "    <tr style=\"text-align: right;\">\n",
       "      <th></th>\n",
       "      <th>Horizon</th>\n",
       "      <th>Directional Accuracy</th>\n",
       "    </tr>\n",
       "  </thead>\n",
       "  <tbody>\n",
       "    <tr>\n",
       "      <th>0</th>\n",
       "      <td>T+1</td>\n",
       "      <td>0.551020</td>\n",
       "    </tr>\n",
       "    <tr>\n",
       "      <th>1</th>\n",
       "      <td>T+2</td>\n",
       "      <td>0.562500</td>\n",
       "    </tr>\n",
       "    <tr>\n",
       "      <th>2</th>\n",
       "      <td>T+3</td>\n",
       "      <td>0.553191</td>\n",
       "    </tr>\n",
       "  </tbody>\n",
       "</table>\n",
       "</div>"
      ],
      "text/plain": [
       "  Horizon  Directional Accuracy\n",
       "0     T+1              0.551020\n",
       "1     T+2              0.562500\n",
       "2     T+3              0.553191"
      ]
     },
     "execution_count": 14,
     "metadata": {},
     "output_type": "execute_result"
    }
   ],
   "source": [
    "# 🚥 Directional accuracy by horizon\n",
    "pd.DataFrame(evaluate_directional_accuracy_by_horizon(y_test_orig, test_pred))\n"
   ]
  },
  {
   "cell_type": "code",
   "execution_count": 15,
   "id": "b5d72b47",
   "metadata": {},
   "outputs": [
    {
     "data": {
      "image/png": "[encoded data removed]",
      "text/plain": [
       "<Figure size 640x480 with 1 Axes>"
      ]
     },
     "metadata": {},
     "output_type": "display_data"
    }
   ],
   "source": [
    "# 💸 PnL Simulation\n",
    "balance_history, trade_log, final_balance = simulate_pnl(\n",
    "    y_test_orig, test_pred, initial_balance=100.0,\n",
    "    threshold=0.005, ticker=tickers[0], output_folder=\"output\"\n",
    ")\n",
    "\n",
    "plt.plot(balance_history)\n",
    "plt.title(\"Simulated Equity Curve\")\n",
    "plt.xlabel(\"Time\")\n",
    "plt.ylabel(\"Balance\")\n",
    "plt.grid(True)\n",
    "plt.show()\n"
   ]
  },
  {
   "cell_type": "code",
   "execution_count": 16,
   "id": "ccc429b0",
   "metadata": {},
   "outputs": [
    {
     "name": "stderr",
     "output_type": "stream",
     "text": [
      "C:\\Users\\Hossein\\AppData\\Local\\Packages\\PythonSoftwareFoundation.Python.3.11_qbz5n2kfra8p0\\LocalCache\\local-packages\\Python311\\site-packages\\keras\\src\\layers\\convolutional\\base_conv.py:107: UserWarning: Do not pass an `input_shape`/`input_dim` argument to a layer. When using Sequential models, prefer using an `Input(shape)` object as the first layer in the model instead.\n",
      "  super().__init__(activity_regularizer=activity_regularizer, **kwargs)\n"
     ]
    },
    {
     "name": "stdout",
     "output_type": "stream",
     "text": [
      "\u001b[1m2/2\u001b[0m \u001b[32m━━━━━━━━━━━━━━━━━━━━\u001b[0m\u001b[37m\u001b[0m \u001b[1m0s\u001b[0m 28ms/step\n"
     ]
    },
    {
     "name": "stderr",
     "output_type": "stream",
     "text": [
      "C:\\Users\\Hossein\\AppData\\Local\\Packages\\PythonSoftwareFoundation.Python.3.11_qbz5n2kfra8p0\\LocalCache\\local-packages\\Python311\\site-packages\\keras\\src\\layers\\convolutional\\base_conv.py:107: UserWarning: Do not pass an `input_shape`/`input_dim` argument to a layer. When using Sequential models, prefer using an `Input(shape)` object as the first layer in the model instead.\n",
      "  super().__init__(activity_regularizer=activity_regularizer, **kwargs)\n"
     ]
    },
    {
     "name": "stdout",
     "output_type": "stream",
     "text": [
      "WARNING:tensorflow:5 out of the last 43 calls to <function TensorFlowTrainer.make_predict_function.<locals>.one_step_on_data_distributed at 0x000001EE0EE04720> triggered tf.function retracing. Tracing is expensive and the excessive number of tracings could be due to (1) creating @tf.function repeatedly in a loop, (2) passing tensors with different shapes, (3) passing Python objects instead of tensors. For (1), please define your @tf.function outside of the loop. For (2), @tf.function has reduce_retracing=True option that can avoid unnecessary retracing. For (3), please refer to https://www.tensorflow.org/guide/function#controlling_retracing and https://www.tensorflow.org/api_docs/python/tf/function for  more details.\n"
     ]
    },
    {
     "name": "stderr",
     "output_type": "stream",
     "text": [
      "WARNING:tensorflow:5 out of the last 43 calls to <function TensorFlowTrainer.make_predict_function.<locals>.one_step_on_data_distributed at 0x000001EE0EE04720> triggered tf.function retracing. Tracing is expensive and the excessive number of tracings could be due to (1) creating @tf.function repeatedly in a loop, (2) passing tensors with different shapes, (3) passing Python objects instead of tensors. For (1), please define your @tf.function outside of the loop. For (2), @tf.function has reduce_retracing=True option that can avoid unnecessary retracing. For (3), please refer to https://www.tensorflow.org/guide/function#controlling_retracing and https://www.tensorflow.org/api_docs/python/tf/function for  more details.\n"
     ]
    },
    {
     "name": "stdout",
     "output_type": "stream",
     "text": [
      "\u001b[1m1/2\u001b[0m \u001b[32m━━━━━━━━━━\u001b[0m\u001b[37m━━━━━━━━━━\u001b[0m \u001b[1m0s\u001b[0m 31ms/stepWARNING:tensorflow:6 out of the last 44 calls to <function TensorFlowTrainer.make_predict_function.<locals>.one_step_on_data_distributed at 0x000001EE0EE04720> triggered tf.function retracing. Tracing is expensive and the excessive number of tracings could be due to (1) creating @tf.function repeatedly in a loop, (2) passing tensors with different shapes, (3) passing Python objects instead of tensors. For (1), please define your @tf.function outside of the loop. For (2), @tf.function has reduce_retracing=True option that can avoid unnecessary retracing. For (3), please refer to https://www.tensorflow.org/guide/function#controlling_retracing and https://www.tensorflow.org/api_docs/python/tf/function for  more details.\n"
     ]
    },
    {
     "name": "stderr",
     "output_type": "stream",
     "text": [
      "WARNING:tensorflow:6 out of the last 44 calls to <function TensorFlowTrainer.make_predict_function.<locals>.one_step_on_data_distributed at 0x000001EE0EE04720> triggered tf.function retracing. Tracing is expensive and the excessive number of tracings could be due to (1) creating @tf.function repeatedly in a loop, (2) passing tensors with different shapes, (3) passing Python objects instead of tensors. For (1), please define your @tf.function outside of the loop. For (2), @tf.function has reduce_retracing=True option that can avoid unnecessary retracing. For (3), please refer to https://www.tensorflow.org/guide/function#controlling_retracing and https://www.tensorflow.org/api_docs/python/tf/function for  more details.\n"
     ]
    },
    {
     "name": "stdout",
     "output_type": "stream",
     "text": [
      "\u001b[1m2/2\u001b[0m \u001b[32m━━━━━━━━━━━━━━━━━━━━\u001b[0m\u001b[37m\u001b[0m \u001b[1m0s\u001b[0m 33ms/step\n"
     ]
    },
    {
     "name": "stderr",
     "output_type": "stream",
     "text": [
      "C:\\Users\\Hossein\\AppData\\Local\\Packages\\PythonSoftwareFoundation.Python.3.11_qbz5n2kfra8p0\\LocalCache\\local-packages\\Python311\\site-packages\\keras\\src\\layers\\convolutional\\base_conv.py:107: UserWarning: Do not pass an `input_shape`/`input_dim` argument to a layer. When using Sequential models, prefer using an `Input(shape)` object as the first layer in the model instead.\n",
      "  super().__init__(activity_regularizer=activity_regularizer, **kwargs)\n"
     ]
    },
    {
     "name": "stdout",
     "output_type": "stream",
     "text": [
      "\u001b[1m2/2\u001b[0m \u001b[32m━━━━━━━━━━━━━━━━━━━━\u001b[0m\u001b[37m\u001b[0m \u001b[1m0s\u001b[0m 33ms/step\n"
     ]
    },
    {
     "name": "stderr",
     "output_type": "stream",
     "text": [
      "C:\\Users\\Hossein\\AppData\\Local\\Packages\\PythonSoftwareFoundation.Python.3.11_qbz5n2kfra8p0\\LocalCache\\local-packages\\Python311\\site-packages\\keras\\src\\layers\\convolutional\\base_conv.py:107: UserWarning: Do not pass an `input_shape`/`input_dim` argument to a layer. When using Sequential models, prefer using an `Input(shape)` object as the first layer in the model instead.\n",
      "  super().__init__(activity_regularizer=activity_regularizer, **kwargs)\n"
     ]
    },
    {
     "name": "stdout",
     "output_type": "stream",
     "text": [
      "\u001b[1m2/2\u001b[0m \u001b[32m━━━━━━━━━━━━━━━━━━━━\u001b[0m\u001b[37m\u001b[0m \u001b[1m0s\u001b[0m 30ms/step\n"
     ]
    },
    {
     "name": "stderr",
     "output_type": "stream",
     "text": [
      "C:\\Users\\Hossein\\AppData\\Local\\Packages\\PythonSoftwareFoundation.Python.3.11_qbz5n2kfra8p0\\LocalCache\\local-packages\\Python311\\site-packages\\keras\\src\\layers\\convolutional\\base_conv.py:107: UserWarning: Do not pass an `input_shape`/`input_dim` argument to a layer. When using Sequential models, prefer using an `Input(shape)` object as the first layer in the model instead.\n",
      "  super().__init__(activity_regularizer=activity_regularizer, **kwargs)\n"
     ]
    },
    {
     "name": "stdout",
     "output_type": "stream",
     "text": [
      "\u001b[1m2/2\u001b[0m \u001b[32m━━━━━━━━━━━━━━━━━━━━\u001b[0m\u001b[37m\u001b[0m \u001b[1m0s\u001b[0m 31ms/step\n"
     ]
    },
    {
     "name": "stderr",
     "output_type": "stream",
     "text": [
      "C:\\Users\\Hossein\\AppData\\Local\\Packages\\PythonSoftwareFoundation.Python.3.11_qbz5n2kfra8p0\\LocalCache\\local-packages\\Python311\\site-packages\\keras\\src\\layers\\convolutional\\base_conv.py:107: UserWarning: Do not pass an `input_shape`/`input_dim` argument to a layer. When using Sequential models, prefer using an `Input(shape)` object as the first layer in the model instead.\n",
      "  super().__init__(activity_regularizer=activity_regularizer, **kwargs)\n"
     ]
    },
    {
     "name": "stdout",
     "output_type": "stream",
     "text": [
      "\u001b[1m2/2\u001b[0m \u001b[32m━━━━━━━━━━━━━━━━━━━━\u001b[0m\u001b[37m\u001b[0m \u001b[1m0s\u001b[0m 30ms/step\n"
     ]
    },
    {
     "name": "stderr",
     "output_type": "stream",
     "text": [
      "C:\\Users\\Hossein\\AppData\\Local\\Packages\\PythonSoftwareFoundation.Python.3.11_qbz5n2kfra8p0\\LocalCache\\local-packages\\Python311\\site-packages\\keras\\src\\layers\\convolutional\\base_conv.py:107: UserWarning: Do not pass an `input_shape`/`input_dim` argument to a layer. When using Sequential models, prefer using an `Input(shape)` object as the first layer in the model instead.\n",
      "  super().__init__(activity_regularizer=activity_regularizer, **kwargs)\n"
     ]
    },
    {
     "name": "stdout",
     "output_type": "stream",
     "text": [
      "\u001b[1m2/2\u001b[0m \u001b[32m━━━━━━━━━━━━━━━━━━━━\u001b[0m\u001b[37m\u001b[0m \u001b[1m0s\u001b[0m 30ms/step\n"
     ]
    },
    {
     "data": {
      "text/html": [
       "<div>\n",
       "<style scoped>\n",
       "    .dataframe tbody tr th:only-of-type {\n",
       "        vertical-align: middle;\n",
       "    }\n",
       "\n",
       "    .dataframe tbody tr th {\n",
       "        vertical-align: top;\n",
       "    }\n",
       "\n",
       "    .dataframe thead th {\n",
       "        text-align: right;\n",
       "    }\n",
       "</style>\n",
       "<table border=\"1\" class=\"dataframe\">\n",
       "  <thead>\n",
       "    <tr style=\"text-align: right;\">\n",
       "      <th></th>\n",
       "      <th>Dropped Feature</th>\n",
       "      <th>RMSE</th>\n",
       "      <th>MAE</th>\n",
       "      <th>RMSE Increase</th>\n",
       "      <th>MAE Increase</th>\n",
       "    </tr>\n",
       "  </thead>\n",
       "  <tbody>\n",
       "    <tr>\n",
       "      <th>2</th>\n",
       "      <td>MACD_signal</td>\n",
       "      <td>12.513261</td>\n",
       "      <td>10.970911</td>\n",
       "      <td>5.592745</td>\n",
       "      <td>5.986229</td>\n",
       "    </tr>\n",
       "    <tr>\n",
       "      <th>3</th>\n",
       "      <td>MACD_hist</td>\n",
       "      <td>10.613002</td>\n",
       "      <td>8.801170</td>\n",
       "      <td>3.692486</td>\n",
       "      <td>3.816489</td>\n",
       "    </tr>\n",
       "    <tr>\n",
       "      <th>6</th>\n",
       "      <td>BB_lower</td>\n",
       "      <td>10.020920</td>\n",
       "      <td>8.560857</td>\n",
       "      <td>3.100404</td>\n",
       "      <td>3.576175</td>\n",
       "    </tr>\n",
       "    <tr>\n",
       "      <th>1</th>\n",
       "      <td>MACD</td>\n",
       "      <td>8.133611</td>\n",
       "      <td>5.618923</td>\n",
       "      <td>1.213095</td>\n",
       "      <td>0.634241</td>\n",
       "    </tr>\n",
       "    <tr>\n",
       "      <th>0</th>\n",
       "      <td>Open</td>\n",
       "      <td>7.841149</td>\n",
       "      <td>6.167951</td>\n",
       "      <td>0.920633</td>\n",
       "      <td>1.183270</td>\n",
       "    </tr>\n",
       "    <tr>\n",
       "      <th>5</th>\n",
       "      <td>BB_upper</td>\n",
       "      <td>7.419679</td>\n",
       "      <td>5.377751</td>\n",
       "      <td>0.499163</td>\n",
       "      <td>0.393069</td>\n",
       "    </tr>\n",
       "    <tr>\n",
       "      <th>4</th>\n",
       "      <td>RSI</td>\n",
       "      <td>5.989033</td>\n",
       "      <td>4.760964</td>\n",
       "      <td>-0.931484</td>\n",
       "      <td>-0.223718</td>\n",
       "    </tr>\n",
       "  </tbody>\n",
       "</table>\n",
       "</div>"
      ],
      "text/plain": [
       "  Dropped Feature       RMSE        MAE  RMSE Increase  MAE Increase\n",
       "2     MACD_signal  12.513261  10.970911       5.592745      5.986229\n",
       "3       MACD_hist  10.613002   8.801170       3.692486      3.816489\n",
       "6        BB_lower  10.020920   8.560857       3.100404      3.576175\n",
       "1            MACD   8.133611   5.618923       1.213095      0.634241\n",
       "0            Open   7.841149   6.167951       0.920633      1.183270\n",
       "5        BB_upper   7.419679   5.377751       0.499163      0.393069\n",
       "4             RSI   5.989033   4.760964      -0.931484     -0.223718"
      ]
     },
     "execution_count": 16,
     "metadata": {},
     "output_type": "execute_result"
    }
   ],
   "source": [
    "# 🔬 Feature drop analysis\n",
    "results_df = feature_drop_analysis(\n",
    "    df_scaled, feature_cols, window_size,\n",
    "    X, y, scaler_y,\n",
    "    dates_test, y_test_orig,\n",
    "    rmse_test, mae_test,\n",
    "    q_90, q_96,\n",
    "    config[\"cnn\"][\"learning_rate\"],\n",
    "    config[\"cnn\"][\"epochs\"],\n",
    "    config[\"cnn\"][\"batch_size\"]\n",
    ")\n",
    "\n",
    "results_df\n"
   ]
  },
  {
   "cell_type": "code",
   "execution_count": 17,
   "id": "a8b46f82",
   "metadata": {},
   "outputs": [
    {
     "name": "stdout",
     "output_type": "stream",
     "text": [
      "\n",
      "🔎 Summary Metrics Table for BRK-B:\n",
      "+--------+---------------------------+--------+\n",
      "| Ticker |          Metric           | Value  |\n",
      "+--------+---------------------------+--------+\n",
      "| BRK-B  |         Test RMSE         | 6.9205 |\n",
      "| BRK-B  |         Test MAE          | 4.9847 |\n",
      "| BRK-B  | Test Directional Accuracy | 0.4898 |\n",
      "+--------+---------------------------+--------+\n",
      "\n",
      "📊 Feature Drop Analysis Table for BRK-B:\n",
      "+--------+-----------------+--------------------+--------------------+---------------------+----------------------+\n",
      "| Ticker | Dropped Feature |        RMSE        |        MAE         |    RMSE Increase    |     MAE Increase     |\n",
      "+--------+-----------------+--------------------+--------------------+---------------------+----------------------+\n",
      "| BRK-B  |   MACD_signal   | 12.513261398030078 | 10.970911026000977 |  5.592745286972449  |  5.986229419708252   |\n",
      "| BRK-B  |    MACD_hist    | 10.613001612298769 | 8.801170349121094  | 3.6924855012411397  |  3.816488742828369   |\n",
      "| BRK-B  |    BB_lower     | 10.020919661966262 | 8.560856819152832  | 3.1004035509086334  |  3.5761752128601074  |\n",
      "| BRK-B  |      MACD       | 8.133611253252946  | 5.618922710418701  | 1.2130951421953169  |  0.6342411041259766  |\n",
      "| BRK-B  |      Open       | 7.841149373952691  | 6.1679511070251465 | 0.9206332628950618  |  1.1832695007324219  |\n",
      "| BRK-B  |    BB_upper     | 7.419678694356666  | 5.377750873565674  | 0.49916258329903673 |  0.3930692672729492  |\n",
      "| BRK-B  |       RSI       | 5.989032576297375  | 4.7609639167785645 | -0.9314835347602539 | -0.22371768951416016 |\n",
      "+--------+-----------------+--------------------+--------------------+---------------------+----------------------+\n",
      "\n",
      "🎯 Best Indicator Dropped for BRK-B: RSI\n",
      "\n",
      "✅ All evaluation tables saved in 'output' directory for BRK-B.\n"
     ]
    }
   ],
   "source": [
    "# 🧾 Evaluation Tables\n",
    "create_evaluation_tables(\n",
    "    tickers[0], rmse_test, mae_test, dir_acc_test,\n",
    "    results_df, output_folder=\"output\"\n",
    ")\n"
   ]
  },
  {
   "cell_type": "code",
   "execution_count": 18,
   "id": "ca2a33a3",
   "metadata": {},
   "outputs": [
    {
     "data": {
      "text/plain": [
       "{'Sell': 37, 'Hold': 8, 'Buy': 4}"
      ]
     },
     "execution_count": 18,
     "metadata": {},
     "output_type": "execute_result"
    }
   ],
   "source": [
    "# 📊 Signal classification\n",
    "def classify_signals(y_true, y_pred, threshold=0.005):\n",
    "    signals = []\n",
    "    for i in range(len(y_pred) - 1):\n",
    "        pct_change = (y_pred[i+1] - y_true[i]) / y_true[i]\n",
    "        if pct_change > threshold:\n",
    "            signals.append(\"Buy\")\n",
    "        elif pct_change < -threshold:\n",
    "            signals.append(\"Sell\")\n",
    "        else:\n",
    "            signals.append(\"Hold\")\n",
    "    from collections import Counter\n",
    "    return dict(Counter(signals))\n",
    "\n",
    "classify_signals(y_test_orig, test_pred)\n"
   ]
  },
  {
   "cell_type": "code",
   "execution_count": 19,
   "id": "af8cea96",
   "metadata": {},
   "outputs": [
    {
     "name": "stdout",
     "output_type": "stream",
     "text": [
      "📉 Average Absolute Error on Test Set: 4.9847\n",
      "🔍 Top 5 Prediction Errors:\n"
     ]
    },
    {
     "data": {
      "text/html": [
       "<div>\n",
       "<style scoped>\n",
       "    .dataframe tbody tr th:only-of-type {\n",
       "        vertical-align: middle;\n",
       "    }\n",
       "\n",
       "    .dataframe tbody tr th {\n",
       "        vertical-align: top;\n",
       "    }\n",
       "\n",
       "    .dataframe thead th {\n",
       "        text-align: right;\n",
       "    }\n",
       "</style>\n",
       "<table border=\"1\" class=\"dataframe\">\n",
       "  <thead>\n",
       "    <tr style=\"text-align: right;\">\n",
       "      <th></th>\n",
       "      <th>Date</th>\n",
       "      <th>Actual Price</th>\n",
       "      <th>Predicted Price</th>\n",
       "      <th>Absolute Error</th>\n",
       "    </tr>\n",
       "  </thead>\n",
       "  <tbody>\n",
       "    <tr>\n",
       "      <th>12</th>\n",
       "      <td>2024-11-06</td>\n",
       "      <td>468.899994</td>\n",
       "      <td>441.876190</td>\n",
       "      <td>27.023804</td>\n",
       "    </tr>\n",
       "    <tr>\n",
       "      <th>27</th>\n",
       "      <td>2024-11-27</td>\n",
       "      <td>483.079987</td>\n",
       "      <td>468.667450</td>\n",
       "      <td>14.412537</td>\n",
       "    </tr>\n",
       "    <tr>\n",
       "      <th>15</th>\n",
       "      <td>2024-11-11</td>\n",
       "      <td>467.359985</td>\n",
       "      <td>453.353577</td>\n",
       "      <td>14.006409</td>\n",
       "    </tr>\n",
       "    <tr>\n",
       "      <th>24</th>\n",
       "      <td>2024-11-22</td>\n",
       "      <td>476.570007</td>\n",
       "      <td>465.691101</td>\n",
       "      <td>10.878906</td>\n",
       "    </tr>\n",
       "    <tr>\n",
       "      <th>41</th>\n",
       "      <td>2024-12-18</td>\n",
       "      <td>446.589996</td>\n",
       "      <td>457.072968</td>\n",
       "      <td>10.482971</td>\n",
       "    </tr>\n",
       "  </tbody>\n",
       "</table>\n",
       "</div>"
      ],
      "text/plain": [
       "          Date  Actual Price  Predicted Price  Absolute Error\n",
       "12  2024-11-06    468.899994       441.876190       27.023804\n",
       "27  2024-11-27    483.079987       468.667450       14.412537\n",
       "15  2024-11-11    467.359985       453.353577       14.006409\n",
       "24  2024-11-22    476.570007       465.691101       10.878906\n",
       "41  2024-12-18    446.589996       457.072968       10.482971"
      ]
     },
     "metadata": {},
     "output_type": "display_data"
    }
   ],
   "source": [
    "# 📅 Analyze prediction errors with dates\n",
    "errors_df = pd.DataFrame({\n",
    "    \"Date\": dates_test,\n",
    "    \"Actual Price\": y_test_orig,\n",
    "    \"Predicted Price\": test_pred,\n",
    "    \"Absolute Error\": np.abs(y_test_orig - test_pred)\n",
    "})\n",
    "\n",
    "average_error = errors_df[\"Absolute Error\"].mean()\n",
    "print(f\"📉 Average Absolute Error on Test Set: {average_error:.4f}\")\n",
    "\n",
    "# Show top 5 biggest errors\n",
    "top_errors = errors_df.sort_values(by=\"Absolute Error\", ascending=False).head(5)\n",
    "print(\"🔍 Top 5 Prediction Errors:\")\n",
    "display(top_errors)\n"
   ]
  },
  {
   "cell_type": "code",
   "execution_count": 20,
   "id": "d5409e80",
   "metadata": {},
   "outputs": [
    {
     "data": {
      "text/html": [
       "<div>\n",
       "<style scoped>\n",
       "    .dataframe tbody tr th:only-of-type {\n",
       "        vertical-align: middle;\n",
       "    }\n",
       "\n",
       "    .dataframe tbody tr th {\n",
       "        vertical-align: top;\n",
       "    }\n",
       "\n",
       "    .dataframe thead th {\n",
       "        text-align: right;\n",
       "    }\n",
       "</style>\n",
       "<table border=\"1\" class=\"dataframe\">\n",
       "  <thead>\n",
       "    <tr style=\"text-align: right;\">\n",
       "      <th>Metric</th>\n",
       "      <th>Test Directional Accuracy</th>\n",
       "      <th>Test MAE</th>\n",
       "      <th>Test RMSE</th>\n",
       "    </tr>\n",
       "    <tr>\n",
       "      <th>Ticker</th>\n",
       "      <th></th>\n",
       "      <th></th>\n",
       "      <th></th>\n",
       "    </tr>\n",
       "  </thead>\n",
       "  <tbody>\n",
       "    <tr>\n",
       "      <th>['GOOGL']</th>\n",
       "      <td>0.5510</td>\n",
       "      <td>3.1035</td>\n",
       "      <td>4.1593</td>\n",
       "    </tr>\n",
       "    <tr>\n",
       "      <th>['AMZN']</th>\n",
       "      <td>0.3878</td>\n",
       "      <td>3.6719</td>\n",
       "      <td>4.5081</td>\n",
       "    </tr>\n",
       "    <tr>\n",
       "      <th>['NVDA']</th>\n",
       "      <td>0.4694</td>\n",
       "      <td>4.1739</td>\n",
       "      <td>5.0618</td>\n",
       "    </tr>\n",
       "    <tr>\n",
       "      <th>BRK-B</th>\n",
       "      <td>0.4898</td>\n",
       "      <td>4.9847</td>\n",
       "      <td>6.9205</td>\n",
       "    </tr>\n",
       "    <tr>\n",
       "      <th>['BRK-B']</th>\n",
       "      <td>0.4898</td>\n",
       "      <td>4.9847</td>\n",
       "      <td>6.9205</td>\n",
       "    </tr>\n",
       "    <tr>\n",
       "      <th>['AAPL']</th>\n",
       "      <td>0.6122</td>\n",
       "      <td>9.2998</td>\n",
       "      <td>9.6677</td>\n",
       "    </tr>\n",
       "  </tbody>\n",
       "</table>\n",
       "</div>"
      ],
      "text/plain": [
       "Metric     Test Directional Accuracy  Test MAE  Test RMSE\n",
       "Ticker                                                   \n",
       "['GOOGL']                     0.5510    3.1035     4.1593\n",
       "['AMZN']                      0.3878    3.6719     4.5081\n",
       "['NVDA']                      0.4694    4.1739     5.0618\n",
       "BRK-B                         0.4898    4.9847     6.9205\n",
       "['BRK-B']                     0.4898    4.9847     6.9205\n",
       "['AAPL']                      0.6122    9.2998     9.6677"
      ]
     },
     "metadata": {},
     "output_type": "display_data"
    }
   ],
   "source": [
    "# 📂 Load and compare all summary metric tables\n",
    "import glob\n",
    "\n",
    "summary_files = glob.glob(\"output/summary_metrics_*.csv\")\n",
    "df_list = [pd.read_csv(f) for f in summary_files]\n",
    "all_metrics_df = pd.concat(df_list)\n",
    "\n",
    "# 📊 Pivot table for comparison\n",
    "pivot_df = all_metrics_df.pivot(index=\"Ticker\", columns=\"Metric\", values=\"Value\")\n",
    "pivot_df = pivot_df.astype(float)\n",
    "pivot_df.sort_values(by=\"Test RMSE\", inplace=True)\n",
    "\n",
    "display(pivot_df)\n"
   ]
  },
  {
   "cell_type": "code",
   "execution_count": 26,
   "id": "468a71ea",
   "metadata": {},
   "outputs": [
    {
     "data": {
      "text/html": [
       "<div>\n",
       "<style scoped>\n",
       "    .dataframe tbody tr th:only-of-type {\n",
       "        vertical-align: middle;\n",
       "    }\n",
       "\n",
       "    .dataframe tbody tr th {\n",
       "        vertical-align: top;\n",
       "    }\n",
       "\n",
       "    .dataframe thead th {\n",
       "        text-align: right;\n",
       "    }\n",
       "</style>\n",
       "<table border=\"1\" class=\"dataframe\">\n",
       "  <thead>\n",
       "    <tr style=\"text-align: right;\">\n",
       "      <th>Metric</th>\n",
       "      <th>Test Directional Accuracy</th>\n",
       "      <th>Test MAE</th>\n",
       "      <th>Test RMSE</th>\n",
       "    </tr>\n",
       "    <tr>\n",
       "      <th>Ticker</th>\n",
       "      <th></th>\n",
       "      <th></th>\n",
       "      <th></th>\n",
       "    </tr>\n",
       "  </thead>\n",
       "  <tbody>\n",
       "    <tr>\n",
       "      <th>['NVDA']</th>\n",
       "      <td>0.4694</td>\n",
       "      <td>4.1739</td>\n",
       "      <td>5.0618</td>\n",
       "    </tr>\n",
       "    <tr>\n",
       "      <th>BRK-B</th>\n",
       "      <td>0.4898</td>\n",
       "      <td>4.9847</td>\n",
       "      <td>6.9205</td>\n",
       "    </tr>\n",
       "    <tr>\n",
       "      <th>['BRK-B']</th>\n",
       "      <td>0.4898</td>\n",
       "      <td>4.9847</td>\n",
       "      <td>6.9205</td>\n",
       "    </tr>\n",
       "  </tbody>\n",
       "</table>\n",
       "</div>"
      ],
      "text/plain": [
       "Metric     Test Directional Accuracy  Test MAE  Test RMSE\n",
       "Ticker                                                   \n",
       "['NVDA']                      0.4694    4.1739     5.0618\n",
       "BRK-B                         0.4898    4.9847     6.9205\n",
       "['BRK-B']                     0.4898    4.9847     6.9205"
      ]
     },
     "metadata": {},
     "output_type": "display_data"
    }
   ],
   "source": [
    "# 🔍 Find models with similar directional accuracy (within ±0.01)\n",
    "ref_value = pivot_df[\"Test Directional Accuracy\"].mean()\n",
    "similar_diracc = pivot_df[np.abs(pivot_df[\"Test Directional Accuracy\"] - ref_value) < 0.04]\n",
    "display(similar_diracc)\n"
   ]
  },
  {
   "cell_type": "code",
   "execution_count": 27,
   "id": "f42fa7aa",
   "metadata": {},
   "outputs": [
    {
     "data": {
      "image/png": "[encoded data removed]",
      "text/plain": [
       "<Figure size 1000x500 with 1 Axes>"
      ]
     },
     "metadata": {},
     "output_type": "display_data"
    }
   ],
   "source": [
    "# 📈 Bar plot of RMSE and MAE\n",
    "pivot_df[[\"Test RMSE\", \"Test MAE\"]].plot(kind='bar', figsize=(10, 5), title=\"Model Comparison\")\n",
    "plt.ylabel(\"Error\")\n",
    "plt.grid(True)\n",
    "plt.show()\n"
   ]
  }
 ],
 "metadata": {
  "kernelspec": {
   "display_name": "Python 3",
   "language": "python",
   "name": "python3"
  },
  "language_info": {
   "codemirror_mode": {
    "name": "ipython",
    "version": 3
   },
   "file_extension": ".py",
   "mimetype": "text/x-python",
   "name": "python",
   "nbconvert_exporter": "python",
   "pygments_lexer": "ipython3",
   "version": "3.11.9"
  }
 },
 "nbformat": 4,
 "nbformat_minor": 5
}
